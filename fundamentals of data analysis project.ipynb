{
 "cells": [
  {
   "cell_type": "markdown",
   "metadata": {},
   "source": [
    "A box plot is used in statistics to display groups of numerical data into their quartiles. There are 3 quartiles, Q1 is defined as the middle number between the smallest number and the median of the data , Q2 is the median (i.e. middle number) and Q3 is the middle value between the median and the highest value of the data set.\n",
    "\n",
    "Box plots have verticals lines representing the higher and lower quartiles. These vertical lines are also known as whiskers. Outliers can also be plotted as individual points. Outliers represent data that is drastically different to other data collected within the set.\n",
    "\n"
   ]
  },
  {
   "cell_type": "code",
   "execution_count": 3,
   "metadata": {
    "collapsed": true
   },
   "outputs": [],
   "source": [
    "#import an example dataset to display a box plot\n",
    "#http://www.physics.csbsju.edu/stats/box2.html\n",
    "A1={0.22, -0.87, -2.39, -1.79, 0.37, -1.54, 1.28, -0.31, -0.74, 1.72, 0.38, -0.17, -0.62, -1.10, 0.30, 0.15, 2.30, 0.19, -0.50, -0.09}\n",
    "\n",
    "A2={-5.13, -2.19, -2.43, -3.83, 0.50, -3.25, 4.32, 1.63, 5.18, -0.43, 7.11, 4.87, -3.10, -5.81, 3.76, 6.31, 2.58, 0.07, 5.76, 3.50}"
   ]
  },
  {
   "cell_type": "code",
   "execution_count": 5,
   "metadata": {},
   "outputs": [
    {
     "ename": "ValueError",
     "evalue": "DataFrame constructor not properly called!",
     "output_type": "error",
     "traceback": [
      "\u001b[1;31m----------------------------------------------------\u001b[0m",
      "\u001b[1;31mValueError\u001b[0m         Traceback (most recent call last)",
      "\u001b[1;32m<ipython-input-5-15494debac16>\u001b[0m in \u001b[0;36m<module>\u001b[1;34m()\u001b[0m\n\u001b[0;32m      5\u001b[0m \u001b[1;33m\u001b[0m\u001b[0m\n\u001b[0;32m      6\u001b[0m \u001b[1;33m\u001b[0m\u001b[0m\n\u001b[1;32m----> 7\u001b[1;33m \u001b[0mdf\u001b[0m \u001b[1;33m=\u001b[0m \u001b[0mpd\u001b[0m\u001b[1;33m.\u001b[0m\u001b[0mDataFrame\u001b[0m\u001b[1;33m(\u001b[0m\u001b[0mdata\u001b[0m\u001b[1;33m)\u001b[0m\u001b[1;33m\u001b[0m\u001b[0m\n\u001b[0m\u001b[0;32m      8\u001b[0m \u001b[0mprint\u001b[0m\u001b[1;33m(\u001b[0m\u001b[0mdf\u001b[0m\u001b[1;33m)\u001b[0m\u001b[1;33m\u001b[0m\u001b[0m\n",
      "\u001b[1;32m~\\Anaconda3\\lib\\site-packages\\pandas\\core\\frame.py\u001b[0m in \u001b[0;36m__init__\u001b[1;34m(self, data, index, columns, dtype, copy)\u001b[0m\n\u001b[0;32m    352\u001b[0m                                          copy=False)\n\u001b[0;32m    353\u001b[0m             \u001b[1;32melse\u001b[0m\u001b[1;33m:\u001b[0m\u001b[1;33m\u001b[0m\u001b[0m\n\u001b[1;32m--> 354\u001b[1;33m                 \u001b[1;32mraise\u001b[0m \u001b[0mValueError\u001b[0m\u001b[1;33m(\u001b[0m\u001b[1;34m'DataFrame constructor not properly called!'\u001b[0m\u001b[1;33m)\u001b[0m\u001b[1;33m\u001b[0m\u001b[0m\n\u001b[0m\u001b[0;32m    355\u001b[0m \u001b[1;33m\u001b[0m\u001b[0m\n\u001b[0;32m    356\u001b[0m         \u001b[0mNDFrame\u001b[0m\u001b[1;33m.\u001b[0m\u001b[0m__init__\u001b[0m\u001b[1;33m(\u001b[0m\u001b[0mself\u001b[0m\u001b[1;33m,\u001b[0m \u001b[0mmgr\u001b[0m\u001b[1;33m,\u001b[0m \u001b[0mfastpath\u001b[0m\u001b[1;33m=\u001b[0m\u001b[1;32mTrue\u001b[0m\u001b[1;33m)\u001b[0m\u001b[1;33m\u001b[0m\u001b[0m\n",
      "\u001b[1;31mValueError\u001b[0m: DataFrame constructor not properly called!"
     ]
    }
   ],
   "source": [
    "import numpy as np\n",
    "import pandas as pd\n",
    "\n",
    "data = ('A1','A2')\n",
    "\n",
    "\n",
    "df = pd.DataFrame(data)\n",
    "print(df)"
   ]
  },
  {
   "cell_type": "code",
   "execution_count": 1,
   "metadata": {},
   "outputs": [
    {
     "name": "stdout",
     "output_type": "stream",
     "text": [
      "   category  days      value\n",
      "0         A    30   3.220029\n",
      "1         A    67  23.591640\n",
      "2         A    28  87.508007\n",
      "3         C    73  88.669956\n",
      "4         A    12  63.888240\n",
      "5         B    63  71.577749\n",
      "6         C    79   3.254668\n",
      "7         C    24  63.688107\n",
      "8         C     2  47.675338\n",
      "9         C    43   3.435139\n",
      "10        C   113   6.729025\n",
      "11        A   111  80.370780\n",
      "12        C    66  42.872822\n",
      "13        C    40  53.864336\n",
      "14        C    81   6.880520\n",
      "15        C    70  44.530571\n",
      "16        A    72  27.451602\n",
      "17        C    67  99.367611\n",
      "18        B     8  52.927883\n",
      "19        C    90  54.536419\n",
      "20        B   100  47.696026\n",
      "21        B    92  37.795808\n",
      "22        B    93  89.039020\n",
      "23        A    31  62.811426\n",
      "24        A    49  43.548918\n",
      "25        A   117  72.392584\n",
      "26        B    65  13.806316\n",
      "27        B   119  51.171285\n",
      "28        B   100  23.342168\n",
      "29        C    35  23.573831\n",
      "..      ...   ...        ...\n",
      "70        B     7  94.048524\n",
      "71        B    69  92.441308\n",
      "72        B    60  64.168698\n",
      "73        A     5  66.063198\n",
      "74        C   110  17.242485\n",
      "75        C    82  63.670414\n",
      "76        C    67  28.856965\n",
      "77        B    42  89.738309\n",
      "78        A     5  19.273263\n",
      "79        A   101  19.809701\n",
      "80        B    45   4.049034\n",
      "81        A    29  59.444543\n",
      "82        C   105  56.129173\n",
      "83        A    93  39.085920\n",
      "84        B   117  61.747418\n",
      "85        C    53  48.465620\n",
      "86        B    58  39.063436\n",
      "87        B    95  33.692182\n",
      "88        C    78  25.520199\n",
      "89        B   112  93.085134\n",
      "90        A   115  69.356150\n",
      "91        A    35  95.649234\n",
      "92        A     5  77.240958\n",
      "93        C    84  12.483037\n",
      "94        C    62  52.925808\n",
      "95        C     6  58.816191\n",
      "96        B    67  10.755043\n",
      "97        C    19  73.557915\n",
      "98        B    38  82.699433\n",
      "99        B     3  36.079295\n",
      "\n",
      "[100 rows x 3 columns]\n"
     ]
    },
    {
     "name": "stderr",
     "output_type": "stream",
     "text": [
      "C:\\Users\\noodl\\Anaconda3\\lib\\site-packages\\numpy\\core\\fromnumeric.py:57: FutureWarning: reshape is deprecated and will raise in a subsequent release. Please use .values.reshape(...) instead\n",
      "  return getattr(obj, method)(*args, **kwds)\n"
     ]
    },
    {
     "data": {
      "text/plain": [
       "value    AxesSubplot(0.1,0.15;0.8x0.75)\n",
       "dtype: object"
      ]
     },
     "execution_count": 1,
     "metadata": {},
     "output_type": "execute_result"
    }
   ],
   "source": [
    "#https://stackoverflow.com/questions/41667397/interactive-boxplot-with-pandas-and-jupyter-notebook\n",
    "import numpy as np\n",
    "import pandas as pd\n",
    "\n",
    "categories=('A','B','C')\n",
    "\n",
    "data = {\n",
    "            'days':      np.random.randint(120, size=100), \n",
    "            'category':  np.random.choice(categories, 100),\n",
    "            'value':     100.0 * np.random.random_sample(100)\n",
    "       }\n",
    "\n",
    "df = pd.DataFrame(data)\n",
    "print(df)\n",
    "\n",
    "\n"
   ]
  },
  {
   "cell_type": "code",
   "execution_count": 2,
   "metadata": {},
   "outputs": [
    {
     "name": "stderr",
     "output_type": "stream",
     "text": [
      "C:\\Users\\noodl\\Anaconda3\\lib\\site-packages\\numpy\\core\\fromnumeric.py:57: FutureWarning: reshape is deprecated and will raise in a subsequent release. Please use .values.reshape(...) instead\n",
      "  return getattr(obj, method)(*args, **kwds)\n"
     ]
    },
    {
     "data": {
      "text/plain": [
       "value    AxesSubplot(0.1,0.15;0.8x0.75)\n",
       "dtype: object"
      ]
     },
     "execution_count": 2,
     "metadata": {},
     "output_type": "execute_result"
    }
   ],
   "source": [
    "numer_of_days = 42\n",
    "df_filtered= df.loc[df['days'] < numer_of_days]  # use operators like ==, >=, <, etc.\n",
    "df_filtered[[\"category\", \"value\"]].boxplot( by=\"category\", return_type='axes')"
   ]
  },
  {
   "cell_type": "code",
   "execution_count": 4,
   "metadata": {},
   "outputs": [
    {
     "ename": "SyntaxError",
     "evalue": "invalid syntax (<ipython-input-4-8a11f623dd68>, line 21)",
     "output_type": "error",
     "traceback": [
      "\u001b[1;36m  File \u001b[1;32m\"<ipython-input-4-8a11f623dd68>\"\u001b[1;36m, line \u001b[1;32m21\u001b[0m\n\u001b[1;33m    print(int df_filtered)\u001b[0m\n\u001b[1;37m                        ^\u001b[0m\n\u001b[1;31mSyntaxError\u001b[0m\u001b[1;31m:\u001b[0m invalid syntax\n"
     ]
    }
   ],
   "source": [
    "import numpy as np\n",
    "import pandas as pd\n",
    "from ipywidgets import interact\n",
    "%matplotlib notebook\n",
    "\n",
    "categories=('A','B','C')\n",
    "\n",
    "data = {\n",
    "            'days':      np.random.randint(12, size=100), \n",
    "            'category':  np.random.choice(categories, 100),\n",
    "            'value':     100.0 * np.random.random_sample(100)\n",
    "       }\n",
    "\n",
    "df = pd.DataFrame(data)\n",
    "\n",
    "def select_days(number_of_days):\n",
    "    df_filtered= df.loc[df['days'] == int(number_of_days)] \n",
    "    ax = df_filtered[[\"category\", \"value\"]].boxplot( by=\"category\", return_type='axes')\n",
    "    ax[\"value\"].set_title(\"Day \" + number_of_days)\n",
    "    \n",
    "print(int df_filtered)\n",
    "\n",
    "days = [str(day) for day in np.arange(12)]\n",
    "\n",
    "interact(select_days, number_of_days=days)\n"
   ]
  },
  {
   "cell_type": "code",
   "execution_count": 5,
   "metadata": {},
   "outputs": [
    {
     "ename": "ModuleNotFoundError",
     "evalue": "No module named 'plotly'",
     "output_type": "error",
     "traceback": [
      "\u001b[1;31m----------------------------------------------------\u001b[0m",
      "\u001b[1;31mModuleNotFoundError\u001b[0mTraceback (most recent call last)",
      "\u001b[1;32m<ipython-input-5-3fed3d0432a8>\u001b[0m in \u001b[0;36m<module>\u001b[1;34m()\u001b[0m\n\u001b[1;32m----> 1\u001b[1;33m \u001b[1;32mimport\u001b[0m \u001b[0mplotly\u001b[0m\u001b[1;33m.\u001b[0m\u001b[0mplotly\u001b[0m \u001b[1;32mas\u001b[0m \u001b[0mpy\u001b[0m\u001b[1;33m\u001b[0m\u001b[0m\n\u001b[0m\u001b[0;32m      2\u001b[0m \u001b[1;32mimport\u001b[0m \u001b[0mcufflinks\u001b[0m \u001b[1;32mas\u001b[0m \u001b[0mcf\u001b[0m\u001b[1;33m\u001b[0m\u001b[0m\n\u001b[0;32m      3\u001b[0m \u001b[1;32mimport\u001b[0m \u001b[0mpandas\u001b[0m \u001b[1;32mas\u001b[0m \u001b[0mpd\u001b[0m\u001b[1;33m\u001b[0m\u001b[0m\n\u001b[0;32m      4\u001b[0m \u001b[1;32mimport\u001b[0m \u001b[0mnumpy\u001b[0m \u001b[1;32mas\u001b[0m \u001b[0mnp\u001b[0m\u001b[1;33m\u001b[0m\u001b[0m\n\u001b[0;32m      5\u001b[0m \u001b[1;33m\u001b[0m\u001b[0m\n",
      "\u001b[1;31mModuleNotFoundError\u001b[0m: No module named 'plotly'"
     ]
    }
   ],
   "source": [
    "import plotly.plotly as py\n",
    "import cufflinks as cf\n",
    "import pandas as pd\n",
    "import numpy as np\n",
    "\n",
    "cf.set_config_file(offline=False, world_readable=True, theme='ggplot')\n",
    "\n",
    "df = pd.DataFrame(np.random.rand(10, 5), columns=['A', 'B', 'C', 'D', 'E'])\n",
    "df.iplot(kind='box', filename='cufflinks/box-plots')"
   ]
  },
  {
   "cell_type": "markdown",
   "metadata": {},
   "source": [
    "Below a box plot is generated using matplotlib. As seen below there are multiple outliers in the upper region, and multiple \n",
    "outliers in the lower region. The boxplots are generated using random data generated from numpy.random. \n",
    "A seed in used in the example below so that the points discussed are the same each time it is ran.\n",
    "In the example below there is a maximum value of around 130 and a minimum value of roughly -50.\n",
    "most of the outliers in the lower region are close to the minimum value apart from one which is close to -100.\n",
    "The median value is the line in the middle of the box plot which seperates the lower part of data and upper part of data.\n",
    "The firs quartile is the bottom line of the box plot and is around 30. The third quartile is the horizontal line at the top of the box, it has a rough value of 75."
   ]
  },
  {
   "cell_type": "code",
   "execution_count": 20,
   "metadata": {},
   "outputs": [
    {
     "data": {
      "image/png": "[encoded data removed]",
      "text/plain": [
       "<matplotlib.figure.Figure at 0x21d86b23400>"
      ]
     },
     "metadata": {},
     "output_type": "display_data"
    }
   ],
   "source": [
    "import numpy as np\n",
    "import matplotlib.pyplot as plt\n",
    "\n",
    "# Fixing random state for reproducibility\n",
    "np.random.seed(1)\n",
    "\n",
    "# fake up some data\n",
    "spread = np.random.rand(50) * 100\n",
    "center = np.ones(25) * 50\n",
    "flier_high = np.random.rand(10) * 100 + 100\n",
    "flier_low = np.random.rand(10) * -100\n",
    "data = np.concatenate((spread, center, flier_high, flier_low))\n",
    "\n",
    "fig1, ax1 = plt.subplots()\n",
    "ax1.set_title('Basic Plot')\n",
    "ax1.boxplot(data)\n",
    "plt.show()\n",
    "#https://matplotlib.org/gallery/pyplots/boxplot_demo_pyplot.html#sphx-glr-gallery-pyplots-boxplot-demo-pyplot-py"
   ]
  },
  {
   "cell_type": "code",
   "execution_count": null,
   "metadata": {
    "collapsed": true
   },
   "outputs": [],
   "source": []
  }
 ],
 "metadata": {
  "kernelspec": {
   "display_name": "Python 3",
   "language": "python",
   "name": "python3"
  },
  "language_info": {
   "codemirror_mode": {
    "name": "ipython",
    "version": 3
   },
   "file_extension": ".py",
   "mimetype": "text/x-python",
   "name": "python",
   "nbconvert_exporter": "python",
   "pygments_lexer": "ipython3",
   "version": "3.6.3"
  }
 },
 "nbformat": 4,
 "nbformat_minor": 2
}
