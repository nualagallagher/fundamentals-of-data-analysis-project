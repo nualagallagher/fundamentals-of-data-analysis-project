{
 "cells": [
  {
   "cell_type": "markdown",
   "metadata": {},
   "source": [
    "A box plot is used in statistics to display groups of numerical data into their quartiles. There are 3 quartiles, Q1 is defined as the middle number between the smallest number and the median of the data , Q2 is the median (i.e. middle number) and Q3 is the middle value between the median and the highest value of the data set.\n",
    "\n",
    "Box plots have verticals lines representing the higher and lower quartiles. These vertical lines are also known as whiskers. Outliers can also be plotted as individual points. Outliers represent data that is drastically different to other data collected within the set.\n",
    "\n"
   ]
  },
  {
   "cell_type": "code",
   "execution_count": 16,
   "metadata": {
    "collapsed": true
   },
   "outputs": [],
   "source": [
    "#import an example dataset to display a box plot\n",
    "#http://www.physics.csbsju.edu/stats/box2.html\n",
    "A1={0.22, -0.87, -2.39, -1.79, 0.37, -1.54, 1.28, -0.31, -0.74, 1.72, 0.38, -0.17, -0.62, -1.10, 0.30, 0.15, 2.30, 0.19, -0.50, -0.09}\n",
    "\n",
    "A2={-5.13, -2.19, -2.43, -3.83, 0.50, -3.25, 4.32, 1.63, 5.18, -0.43, 7.11, 4.87, -3.10, -5.81, 3.76, 6.31, 2.58, 0.07, 5.76, 3.50}"
   ]
  },
  {
   "cell_type": "code",
   "execution_count": 22,
   "metadata": {},
   "outputs": [],
   "source": [
    "import numpy as np\n",
    "import pandas as pd\n",
    "import matplotlib.pyplot as plt"
   ]
  },
  {
   "cell_type": "code",
   "execution_count": 19,
   "metadata": {},
   "outputs": [
    {
     "name": "stdout",
     "output_type": "stream",
     "text": [
      "   category  days      value\n",
      "0         C    68  61.677836\n",
      "1         B    57  94.901632\n",
      "2         A   112  95.017612\n",
      "3         C    82  55.665319\n",
      "4         C    96  91.560635\n",
      "5         C    13  64.156621\n",
      "6         A    10  39.000771\n",
      "7         B    23  48.599067\n",
      "8         B    81  60.431048\n",
      "9         B     7  54.954792\n",
      "10        B    24  92.618143\n",
      "11        C    74  91.873344\n",
      "12        A    92  39.487561\n",
      "13        A    20  96.326253\n",
      "14        C    32  17.395567\n",
      "15        A    12  12.632952\n",
      "16        B    65  13.507916\n",
      "17        A    94  50.566217\n",
      "18        C    60   2.152481\n",
      "19        A   105  94.797021\n",
      "20        C    24  82.711547\n",
      "21        C    82   1.501898\n",
      "22        A   115  17.619626\n",
      "23        B    97  33.206357\n",
      "24        A     2  13.099684\n",
      "25        A   108  80.949069\n",
      "26        A    92  34.473665\n",
      "27        B   103  94.010748\n",
      "28        C    98  58.201418\n",
      "29        B    10  87.883198\n",
      "..      ...   ...        ...\n",
      "70        C    84  38.210275\n",
      "71        C   116  41.081135\n",
      "72        B    43  40.147958\n",
      "73        C     6  31.738395\n",
      "74        B    77  62.191937\n",
      "75        C    56  43.024727\n",
      "76        B    59  97.380208\n",
      "77        C    15  67.780089\n",
      "78        A    24  19.856989\n",
      "79        A     9  42.670101\n",
      "80        C    66  34.334624\n",
      "81        C    71  79.763880\n",
      "82        A    53  87.999829\n",
      "83        B    69  90.384196\n",
      "84        C    36  66.271981\n",
      "85        A   101  27.020826\n",
      "86        C    21  25.236670\n",
      "87        A    40  85.489794\n",
      "88        B    77  52.771465\n",
      "89        A    91  80.216108\n",
      "90        A    49  57.248852\n",
      "91        C   113  73.314253\n",
      "92        A    47  51.901163\n",
      "93        C    77  77.088391\n",
      "94        B    40  56.885799\n",
      "95        C    78  46.570988\n",
      "96        A    45  34.268891\n",
      "97        A    87   6.820935\n",
      "98        A    16  37.792418\n",
      "99        A    28   7.962608\n",
      "\n",
      "[100 rows x 3 columns]\n"
     ]
    }
   ],
   "source": [
    "#https://stackoverflow.com/questions/41667397/interactive-boxplot-with-pandas-and-jupyter-notebook\n",
    "import numpy as np\n",
    "import pandas as pd\n",
    "\n",
    "categories=('A','B','C')\n",
    "\n",
    "data = {\n",
    "            'days':      np.random.randint(120, size=100), \n",
    "            'category':  np.random.choice(categories, 100),\n",
    "            'value':     100.0 * np.random.random_sample(100)\n",
    "       }\n",
    "\n",
    "df = pd.DataFrame(data)\n",
    "print(df)\n",
    "\n",
    "\n"
   ]
  },
  {
   "cell_type": "code",
   "execution_count": 2,
   "metadata": {},
   "outputs": [
    {
     "name": "stderr",
     "output_type": "stream",
     "text": [
      "C:\\Users\\noodl\\Anaconda3\\lib\\site-packages\\numpy\\core\\fromnumeric.py:57: FutureWarning: reshape is deprecated and will raise in a subsequent release. Please use .values.reshape(...) instead\n",
      "  return getattr(obj, method)(*args, **kwds)\n"
     ]
    },
    {
     "data": {
      "text/plain": [
       "value    AxesSubplot(0.1,0.15;0.8x0.75)\n",
       "dtype: object"
      ]
     },
     "execution_count": 2,
     "metadata": {},
     "output_type": "execute_result"
    }
   ],
   "source": [
    "numer_of_days = 42\n",
    "df_filtered= df.loc[df['days'] < numer_of_days]  # use operators like ==, >=, <, etc.\n",
    "df_filtered[[\"category\", \"value\"]].boxplot( by=\"category\", return_type='axes')"
   ]
  },
  {
   "cell_type": "code",
   "execution_count": 5,
   "metadata": {},
   "outputs": [
    {
     "ename": "SyntaxError",
     "evalue": "invalid syntax (<ipython-input-5-8a11f623dd68>, line 21)",
     "output_type": "error",
     "traceback": [
      "\u001b[1;36m  File \u001b[1;32m\"<ipython-input-5-8a11f623dd68>\"\u001b[1;36m, line \u001b[1;32m21\u001b[0m\n\u001b[1;33m    print(int df_filtered)\u001b[0m\n\u001b[1;37m                        ^\u001b[0m\n\u001b[1;31mSyntaxError\u001b[0m\u001b[1;31m:\u001b[0m invalid syntax\n"
     ]
    }
   ],
   "source": [
    "import numpy as np\n",
    "import pandas as pd\n",
    "from ipywidgets import interact\n",
    "%matplotlib notebook\n",
    "\n",
    "categories=('A','B','C')\n",
    "\n",
    "data = {\n",
    "            'days':      np.random.randint(12, size=100), \n",
    "            'category':  np.random.choice(categories, 100),\n",
    "            'value':     100.0 * np.random.random_sample(100)\n",
    "       }\n",
    "\n",
    "df = pd.DataFrame(data)\n",
    "\n",
    "def select_days(number_of_days):\n",
    "    df_filtered= df.loc[df['days'] == int(number_of_days)] \n",
    "    ax = df_filtered[[\"category\", \"value\"]].boxplot( by=\"category\", return_type='axes')\n",
    "    ax[\"value\"].set_title(\"Day \" + number_of_days)\n",
    "    \n",
    "print(int df_filtered)\n",
    "\n",
    "days = [str(day) for day in np.arange(12)]\n",
    "\n",
    "interact(select_days, number_of_days=days)\n"
   ]
  },
  {
   "cell_type": "code",
   "execution_count": 6,
   "metadata": {},
   "outputs": [
    {
     "ename": "ModuleNotFoundError",
     "evalue": "No module named 'plotly'",
     "output_type": "error",
     "traceback": [
      "\u001b[1;31m----------------------------------------------------\u001b[0m",
      "\u001b[1;31mModuleNotFoundError\u001b[0mTraceback (most recent call last)",
      "\u001b[1;32m<ipython-input-6-3fed3d0432a8>\u001b[0m in \u001b[0;36m<module>\u001b[1;34m()\u001b[0m\n\u001b[1;32m----> 1\u001b[1;33m \u001b[1;32mimport\u001b[0m \u001b[0mplotly\u001b[0m\u001b[1;33m.\u001b[0m\u001b[0mplotly\u001b[0m \u001b[1;32mas\u001b[0m \u001b[0mpy\u001b[0m\u001b[1;33m\u001b[0m\u001b[0m\n\u001b[0m\u001b[0;32m      2\u001b[0m \u001b[1;32mimport\u001b[0m \u001b[0mcufflinks\u001b[0m \u001b[1;32mas\u001b[0m \u001b[0mcf\u001b[0m\u001b[1;33m\u001b[0m\u001b[0m\n\u001b[0;32m      3\u001b[0m \u001b[1;32mimport\u001b[0m \u001b[0mpandas\u001b[0m \u001b[1;32mas\u001b[0m \u001b[0mpd\u001b[0m\u001b[1;33m\u001b[0m\u001b[0m\n\u001b[0;32m      4\u001b[0m \u001b[1;32mimport\u001b[0m \u001b[0mnumpy\u001b[0m \u001b[1;32mas\u001b[0m \u001b[0mnp\u001b[0m\u001b[1;33m\u001b[0m\u001b[0m\n\u001b[0;32m      5\u001b[0m \u001b[1;33m\u001b[0m\u001b[0m\n",
      "\u001b[1;31mModuleNotFoundError\u001b[0m: No module named 'plotly'"
     ]
    }
   ],
   "source": [
    "import plotly.plotly as py\n",
    "import cufflinks as cf\n",
    "import pandas as pd\n",
    "import numpy as np\n",
    "\n",
    "cf.set_config_file(offline=False, world_readable=True, theme='ggplot')\n",
    "\n",
    "df = pd.DataFrame(np.random.rand(10, 5), columns=['A', 'B', 'C', 'D', 'E'])\n",
    "df.iplot(kind='box', filename='cufflinks/box-plots')"
   ]
  },
  {
   "cell_type": "code",
   "execution_count": 26,
   "metadata": {},
   "outputs": [
    {
     "data": {
      "image/png": "[encoded data removed]",
      "text/plain": [
       "<matplotlib.figure.Figure at 0x1478a08f860>"
      ]
     },
     "metadata": {},
     "output_type": "display_data"
    }
   ],
   "source": [
    "#Histograms unlike boxplots dont display outliers as clearly. \n",
    "#It is also easier to determine the min and max value in a box plot rather than a histogram, you can also determine the median in\n",
    "# boxplot unlike a histogram.\n",
    "\n",
    "x = np.random.randint(20, 100, 10)\n",
    "\n",
    "plt.hist(x)\n",
    "plt.show()"
   ]
  },
  {
   "cell_type": "code",
   "execution_count": 28,
   "metadata": {},
   "outputs": [
    {
     "data": {
      "image/png": "[encoded data removed]",
      "text/plain": [
       "<matplotlib.figure.Figure at 0x1478a15e668>"
      ]
     },
     "metadata": {},
     "output_type": "display_data"
    }
   ],
   "source": [
    "#here we can see random points of data in a scatter graph, without a best fit line, it is difficult to determine the outliers,\n",
    "w = [10.0, 8.0, 13.0, 9.0, 11.0, 14.0, 6.0, 4.0, 12.0, 7.0, 5.0]\n",
    "d = [8.04, 6.95, 7.58, 8.81, 8.33, 9.96, 7.24, 4.26, 10.84, 4.82, 5.68]\n",
    "plt.plot(w, d, 'k.')\n",
    "plt.show()"
   ]
  },
  {
   "cell_type": "markdown",
   "metadata": {},
   "source": [
    "Below a box plot is generated using matplotlib. As seen below there are multiple outliers in the upper region, and multiple \n",
    "outliers in the lower region. The boxplots are generated using random data generated from numpy.random. \n",
    "A seed in used in the example below so that the points discussed are the same each time it is ran.\n",
    "In the example below there is a maximum value of around 130 and a minimum value of roughly -50.\n",
    "most of the outliers in the lower region are close to the minimum value apart from one which is close to -100.\n",
    "The median value is the line in the middle of the box plot which seperates the lower part of data and upper part of data.\n",
    "The firs quartile is the bottom line of the box plot and is around 30. The third quartile is the horizontal line at the top of the box, it has a rough value of 75.\n",
    "\n",
    "https://www.google.ie/search?q=boxplot+diagram&rlz=1C1SQJL_enIE781IE781&tbm=isch&source=iu&ictx=1&fir=4gAY4h8nE7H3dM%253A%252CDsO18hk_SKPrrM%252C_&usg=AI4_-kQciI0hfs2m0_8IdE6vEQyy5NlVRQ&sa=X&ved=2ahUKEwjkpvjYqIzfAhW-VRUIHdAXCioQ_h0wHXoECAIQDA#imgrc=4gAY4h8nE7H3dM:"
   ]
  },
  {
   "cell_type": "code",
   "execution_count": 7,
   "metadata": {},
   "outputs": [
    {
     "data": {
      "image/png": "[encoded data removed]",
      "text/plain": [
       "<matplotlib.figure.Figure at 0x147893d9be0>"
      ]
     },
     "metadata": {},
     "output_type": "display_data"
    }
   ],
   "source": [
    "import numpy as np\n",
    "import matplotlib.pyplot as plt\n",
    "\n",
    "# Fixing random state for reproducibility\n",
    "np.random.seed(1)\n",
    "\n",
    "# fake up some data\n",
    "spread = np.random.rand(50) * 100\n",
    "center = np.ones(25) * 50\n",
    "flier_high = np.random.rand(10) * 100 + 100\n",
    "flier_low = np.random.rand(10) * -100\n",
    "data = np.concatenate((spread, center, flier_high, flier_low))\n",
    "\n",
    "fig1, ax1 = plt.subplots()\n",
    "ax1.set_title('Basic Plot')\n",
    "ax1.boxplot(data)\n",
    "plt.show()\n",
    "\n",
    "#https://matplotlib.org/gallery/pyplots/boxplot_demo_pyplot.html#sphx-glr-gallery-pyplots-boxplot-demo-pyplot-py"
   ]
  },
  {
   "cell_type": "code",
   "execution_count": null,
   "metadata": {
    "collapsed": true
   },
   "outputs": [],
   "source": [
    "w = [10.0, 8.0, 13.0, 9.0, 11.0, 14.0, 6.0, 4.0, 12.0, 7.0, 5.0]\n",
    "d = [8.04, 6.95, 7.58, 8.81, 8.33, 9.96, 7.24, 4.26, 10.84, 4.82, 5.68]\n",
    "\n"
   ]
  },
  {
   "cell_type": "markdown",
   "metadata": {},
   "source": [
    "Below various types of boxplots are generated. These include a basic boxplot, a horizontal boxplot, a plot excluding outliers, a notched boxplot and a boxplot with change of whisker lentgh and change of outliers symbols. A notched boxplot is synched in at the median line. The notch displays the a confidence interval around the median which is normally based on the median.\n",
    "\n",
    "https://sites.google.com/site/davidsstatistics/home/notched-box-plots"
   ]
  },
  {
   "cell_type": "code",
   "execution_count": 32,
   "metadata": {},
   "outputs": [
    {
     "data": {
      "image/png": "[encoded data removed]",
      "text/plain": [
       "<matplotlib.figure.Figure at 0x1478b21ccf8>"
      ]
     },
     "metadata": {},
     "output_type": "display_data"
    },
    {
     "data": {
      "image/png": "[encoded data removed]",
      "text/plain": [
       "<matplotlib.figure.Figure at 0x1478b337be0>"
      ]
     },
     "metadata": {},
     "output_type": "display_data"
    }
   ],
   "source": [
    "#https://matplotlib.org/gallery/statistics/boxplot_demo.html\n",
    "\n",
    "\n",
    "import matplotlib.pyplot as plt\n",
    "import numpy as np\n",
    "from matplotlib.patches import Polygon\n",
    "\n",
    "\n",
    "# Fixing random state for reproducibility\n",
    "np.random.seed(19680801)\n",
    "\n",
    "# fake up some data\n",
    "spread = np.random.rand(50) * 100\n",
    "center = np.ones(25) * 50\n",
    "flier_high = np.random.rand(10) * 100 + 100\n",
    "flier_low = np.random.rand(10) * -100\n",
    "data = np.concatenate((spread, center, flier_high, flier_low))\n",
    "\n",
    "fig, axs = plt.subplots(2, 3)\n",
    "\n",
    "# basic plot\n",
    "axs[0, 0].boxplot(data)\n",
    "axs[0, 0].set_title('basic plot')\n",
    "\n",
    "# notched plot\n",
    "axs[0, 1].boxplot(data, 1)\n",
    "axs[0, 1].set_title('notched plot')\n",
    "\n",
    "# change outlier point symbols\n",
    "axs[0, 2].boxplot(data, 0, 'gD')\n",
    "axs[0, 2].set_title('change outlier\\npoint symbols')\n",
    "\n",
    "# don't show outlier points\n",
    "axs[1, 0].boxplot(data, 0, '')\n",
    "axs[1, 0].set_title(\"don't show\\noutlier points\")\n",
    "\n",
    "# horizontal boxes\n",
    "axs[1, 1].boxplot(data, 0, 'rs', 0)\n",
    "axs[1, 1].set_title('horizontal boxes')\n",
    "\n",
    "# change whisker length\n",
    "axs[1, 2].boxplot(data, 0, 'rs', 0, 0.75)\n",
    "axs[1, 2].set_title('change whisker length')\n",
    "\n",
    "fig.subplots_adjust(left=0.08, right=0.98, bottom=0.05, top=0.9,\n",
    "                    hspace=0.4, wspace=0.3)\n",
    "\n",
    "# fake up some more data\n",
    "spread = np.random.rand(50) * 100\n",
    "center = np.ones(25) * 40\n",
    "flier_high = np.random.rand(10) * 100 + 100\n",
    "flier_low = np.random.rand(10) * -100\n",
    "d2 = np.concatenate((spread, center, flier_high, flier_low))\n",
    "data.shape = (-1, 1)\n",
    "d2.shape = (-1, 1)\n",
    "# Making a 2-D array only works if all the columns are the\n",
    "# same length.  If they are not, then use a list instead.\n",
    "# This is actually more efficient because boxplot converts\n",
    "# a 2-D array into a list of vectors internally anyway.\n",
    "data = [data, d2, d2[::2, 0]]\n",
    "\n",
    "# Multiple box plots on one Axes\n",
    "fig, ax = plt.subplots()\n",
    "ax.boxplot(data)\n",
    "\n",
    "plt.show()"
   ]
  },
  {
   "cell_type": "code",
   "execution_count": 38,
   "metadata": {},
   "outputs": [
    {
     "ename": "NameError",
     "evalue": "name 'postings' is not defined",
     "output_type": "error",
     "traceback": [
      "\u001b[1;31m----------------------------------------------------\u001b[0m",
      "\u001b[1;31mNameError\u001b[0m          Traceback (most recent call last)",
      "\u001b[1;32m<ipython-input-38-ca89287bb33e>\u001b[0m in \u001b[0;36m<module>\u001b[1;34m()\u001b[0m\n\u001b[0;32m      6\u001b[0m \u001b[1;33m\u001b[0m\u001b[0m\n\u001b[0;32m      7\u001b[0m \u001b[1;33m\u001b[0m\u001b[0m\n\u001b[1;32m----> 8\u001b[1;33m \u001b[0mplt\u001b[0m\u001b[1;33m.\u001b[0m\u001b[0mboxplot\u001b[0m\u001b[1;33m(\u001b[0m\u001b[0mpostings\u001b[0m\u001b[1;33m)\u001b[0m\u001b[1;33m\u001b[0m\u001b[0m\n\u001b[0m\u001b[0;32m      9\u001b[0m \u001b[0mplt\u001b[0m\u001b[1;33m.\u001b[0m\u001b[0mshow\u001b[0m\u001b[1;33m(\u001b[0m\u001b[1;33m)\u001b[0m\u001b[1;33m\u001b[0m\u001b[0m\n",
      "\u001b[1;31mNameError\u001b[0m: name 'postings' is not defined"
     ]
    }
   ],
   "source": [
    "#https://stackoverflow.com/questions/44119653/creating-a-boxplot-with-matplotlib\n",
    "\n",
    "import matplotlib.pyplot as plt\n",
    "import numpy as np\n",
    "%matplotlib inline\n",
    "\n",
    "\n",
    "plt.boxplot(postings)\n",
    "plt.show()"
   ]
  },
  {
   "cell_type": "markdown",
   "metadata": {},
   "source": [
    "# Conclusion:\n",
    "Boxplots provide more information regarding the data compared to histograms. Unlike a histogram, you can determine the min, max values, median, upper and lower limit of the data. Outliers are also easier to notice in boxplots. \n",
    "\n",
    "In scatter graphs it is difficult to determine the outliers without the best fit line, however you can see the min and max values just by ananlysing the points.\n",
    "\n",
    "Another advantage of box plot's is that they useful for analyzing categorical variables side by side. This allows easy comparision of each set.\n",
    "\n",
    "Therefore, boxplots are more useful when trying to distinguish the above factors from presentation alone."
   ]
  },
  {
   "cell_type": "markdown",
   "metadata": {
    "collapsed": true
   },
   "source": [
    "# References\n",
    "https://matplotlib.org/gallery/pyplots/boxplot_demo_pyplot.html#sphx-glr-gallery-pyplots-boxplot-demo-pyplot-py\n",
    "https://www.google.ie/search?q=boxplot+diagram&rlz=1C1SQJL_enIE781IE781&tbm=isch&source=iu&ictx=1&fir=4gAY4h8nE7H3dM%253A%252CDsO18hk_SKPrrM%252C_&usg=AI4_-kQciI0hfs2m0_8IdE6vEQyy5NlVRQ&sa=X&ved=2ahUKEwjkpvjYqIzfAhW-VRUIHdAXCioQ_h0wHXoECAIQDA#imgrc=4gAY4h8nE7H3dM:\n",
    "http://www.physics.csbsju.edu/stats/box2.html\n",
    "https://stackoverflow.com/questions/41667397/interactive-boxplot-with-pandas-and-jupyter-notebook\n",
    "http://www.netmba.com/statistics/plot/box/\n",
    "https://matplotlib.org/gallery/statistics/boxplot_demo.html\n",
    "https://sites.google.com/site/davidsstatistics/home/notched-box-plots\n",
    "https://stackoverflow.com/questions/44119653/creating-a-boxplot-with-matplotlib"
   ]
  }
 ],
 "metadata": {
  "kernelspec": {
   "display_name": "Python 3",
   "language": "python",
   "name": "python3"
  },
  "language_info": {
   "codemirror_mode": {
    "name": "ipython",
    "version": 3
   },
   "file_extension": ".py",
   "mimetype": "text/x-python",
   "name": "python",
   "nbconvert_exporter": "python",
   "pygments_lexer": "ipython3",
   "version": "3.6.3"
  }
 },
 "nbformat": 4,
 "nbformat_minor": 2
}
